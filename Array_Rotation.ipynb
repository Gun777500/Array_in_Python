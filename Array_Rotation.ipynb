{
 "cells": [
  {
   "cell_type": "code",
   "execution_count": 3,
   "metadata": {},
   "outputs": [
    {
     "name": "stdout",
     "output_type": "stream",
     "text": [
      "8 1 6 9 3 10 4 "
     ]
    }
   ],
   "source": [
    "# function to left rotate arr[] of size n by d\n",
    "# arr = list\n",
    "# n = lenght of list\n",
    "# d = cut the array from which position (like position is 2)\n",
    "\n",
    "def leftRotate(arr,d,n):\n",
    "    for i in range (d):\n",
    "        leftRotatebyOne(arr,n)\n",
    "\n",
    "# function to left rotate arr[] of size n by 1\n",
    "\n",
    "\n",
    "def leftRotatebyOne(arr ,n):\n",
    "    temp=arr[0]\n",
    "    for i in range(n-1):\n",
    "        arr[i]=arr[i+1]\n",
    "    arr[n-1]=temp\n",
    "    \n",
    "# utility function to print an array\n",
    "\n",
    "def printArray(arr ,size):\n",
    "    for i in range(size):\n",
    "        print(\"%d\"% arr[i], end=\" \")\n",
    "        \n",
    "arr=[1,6,9,3,10,4,8]\n",
    "leftRotate(arr,6,7)    # d= 6 and n = 7  where d will cut the array from 6th position\n",
    "printArray(arr,7)"
   ]
  },
  {
   "cell_type": "markdown",
   "metadata": {},
   "source": [
    "# time complexity == O(n*d)"
   ]
  },
  {
   "cell_type": "code",
   "execution_count": null,
   "metadata": {},
   "outputs": [],
   "source": []
  }
 ],
 "metadata": {
  "kernelspec": {
   "display_name": "Python 3",
   "language": "python",
   "name": "python3"
  },
  "language_info": {
   "codemirror_mode": {
    "name": "ipython",
    "version": 3
   },
   "file_extension": ".py",
   "mimetype": "text/x-python",
   "name": "python",
   "nbconvert_exporter": "python",
   "pygments_lexer": "ipython3",
   "version": "3.8.5"
  }
 },
 "nbformat": 4,
 "nbformat_minor": 4
}
