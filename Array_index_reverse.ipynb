{
 "cells": [
  {
   "cell_type": "code",
   "execution_count": 3,
   "metadata": {},
   "outputs": [
    {
     "name": "stdout",
     "output_type": "stream",
     "text": [
      "The orginal array is:  1 2 1 4 5 6 \r\n"
     ]
    }
   ],
   "source": [
    "#import array\n",
    "\n",
    "import array\n",
    "\n",
    "# take one array list\n",
    "\n",
    "arr=array.array('i',[1,2,1,4,5,6])\n",
    "\n",
    "# print the orignal array \n",
    "print(\"The orginal array is: \",end=\" \")\n",
    "for i in range (0,6):\n",
    "    print(arr[i],end=\" \")\n",
    "print(\"\\r\")"
   ]
  },
  {
   "cell_type": "code",
   "execution_count": 6,
   "metadata": {},
   "outputs": [
    {
     "name": "stdout",
     "output_type": "stream",
     "text": [
      "the index of 1 st occurrence of 1 is:  1\n",
      "\r\n"
     ]
    }
   ],
   "source": [
    "# using index() to print index of 1st occurrence of 1\n",
    "print(\"the index of 1 st occurrence of 1 is: \",end=\" \")\n",
    "print(arr.index(2))\n",
    "print(\"\\r\")"
   ]
  },
  {
   "cell_type": "code",
   "execution_count": 7,
   "metadata": {},
   "outputs": [
    {
     "name": "stdout",
     "output_type": "stream",
     "text": [
      "Print the reverse array :  6 5 4 1 2 1 "
     ]
    }
   ],
   "source": [
    "# using rever() to revers the array list \n",
    "arr.reverse()\n",
    "print(\"Print the reverse array : \",end=\" \")\n",
    "for i in range(0,6):\n",
    "    print(arr[i],end=\" \")"
   ]
  },
  {
   "cell_type": "code",
   "execution_count": null,
   "metadata": {},
   "outputs": [],
   "source": []
  }
 ],
 "metadata": {
  "kernelspec": {
   "display_name": "Python 3",
   "language": "python",
   "name": "python3"
  },
  "language_info": {
   "codemirror_mode": {
    "name": "ipython",
    "version": 3
   },
   "file_extension": ".py",
   "mimetype": "text/x-python",
   "name": "python",
   "nbconvert_exporter": "python",
   "pygments_lexer": "ipython3",
   "version": "3.8.5"
  }
 },
 "nbformat": 4,
 "nbformat_minor": 4
}
