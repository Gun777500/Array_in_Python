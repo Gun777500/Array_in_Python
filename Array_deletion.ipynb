{
 "cells": [
  {
   "cell_type": "code",
   "execution_count": 9,
   "metadata": {},
   "outputs": [
    {
     "name": "stdout",
     "output_type": "stream",
     "text": [
      "The orginal array is:  1 2 3 4 5 \r\n"
     ]
    }
   ],
   "source": [
    "#import array\n",
    "\n",
    "import array\n",
    "\n",
    "# take one array list\n",
    "\n",
    "arr=array.array('i',[1,2,3,4,5])\n",
    "\n",
    "# print the orignal array \n",
    "print(\"The orginal array is: \",end=\" \")\n",
    "for i in range (0,5):\n",
    "    print(arr[i],end=\" \")\n",
    "print(\"\\r\")"
   ]
  },
  {
   "cell_type": "code",
   "execution_count": 10,
   "metadata": {},
   "outputs": [
    {
     "name": "stdout",
     "output_type": "stream",
     "text": [
      "The pop element is:  4\n",
      "\r\n"
     ]
    }
   ],
   "source": [
    "# pop() is to used for remove the data from the position \n",
    "# just i will pop() the 3rd position from the array\n",
    "\n",
    "\n",
    "print(\"The pop element is: \",end=\" \")\n",
    "print(arr.pop(3));\n",
    "print(\"\\r\")"
   ]
  },
  {
   "cell_type": "code",
   "execution_count": 11,
   "metadata": {},
   "outputs": [
    {
     "name": "stdout",
     "output_type": "stream",
     "text": [
      "print array after poping : 1 2 3 5 \r\n"
     ]
    }
   ],
   "source": [
    "# print array after poping\n",
    "\n",
    "print(\"print array after poping :\",end=\" \")\n",
    "for i in range (0,4):\n",
    "    print(arr[i],end=\" \")\n",
    "print(\"\\r\")"
   ]
  },
  {
   "cell_type": "code",
   "execution_count": 12,
   "metadata": {},
   "outputs": [
    {
     "name": "stdout",
     "output_type": "stream",
     "text": [
      "1 3 5 "
     ]
    }
   ],
   "source": [
    "# using remove() to remove 1st occurrence of 1\n",
    "\n",
    "arr.remove(2)\n",
    "for i in range (0,3):\n",
    "    print(arr[i],end=\" \")\n",
    "    "
   ]
  },
  {
   "cell_type": "code",
   "execution_count": null,
   "metadata": {},
   "outputs": [],
   "source": []
  }
 ],
 "metadata": {
  "kernelspec": {
   "display_name": "Python 3",
   "language": "python",
   "name": "python3"
  },
  "language_info": {
   "codemirror_mode": {
    "name": "ipython",
    "version": 3
   },
   "file_extension": ".py",
   "mimetype": "text/x-python",
   "name": "python",
   "nbconvert_exporter": "python",
   "pygments_lexer": "ipython3",
   "version": "3.8.5"
  }
 },
 "nbformat": 4,
 "nbformat_minor": 4
}
